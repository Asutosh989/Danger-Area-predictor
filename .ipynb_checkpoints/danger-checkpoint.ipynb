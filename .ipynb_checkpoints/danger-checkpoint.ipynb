{
 "cells": [
  {
   "cell_type": "markdown",
   "metadata": {},
   "source": [
    "# Danger Area Predictor\n",
    "\n",
    "[** The Global Terrorism Dataset**](https://www.kaggle.com/START-UMD/gtd) provides us with the information with all the Terrorist Attacks all over world between 1970-2016. It gives very detailed information about the attack like Date, Place, Country, City, Region, Attacktype, Target of Terrorists and Terrorist organizations involved.\n",
    "\n",
    "Here our aim is to take the GPS location of the user and alert him if he is in a *Danger Area* or in a *Safe area*, and if he is in a danger area, then which country and what is the nearby danger prone area."
   ]
  },
  {
   "cell_type": "code",
   "execution_count": 1,
   "metadata": {
    "collapsed": true
   },
   "outputs": [],
   "source": [
    "import pandas as pd\n",
    "import numpy as np\n",
    "import plotly.plotly as py\n",
    "import plotly\n",
    "from plotly.graph_objs import *"
   ]
  },
  {
   "cell_type": "markdown",
   "metadata": {},
   "source": [
    "##### Here the dataset is imported. And required columns are imported"
   ]
  },
  {
   "cell_type": "code",
   "execution_count": 2,
   "metadata": {},
   "outputs": [],
   "source": [
    "gtd = pd.read_csv('gtd_new.csv',usecols=[1,2,3,8,10,12,13,14],low_memory=False,header=0)\n",
    "gtd = gtd.dropna(axis=0, how = 'any')"
   ]
  },
  {
   "cell_type": "code",
   "execution_count": 3,
   "metadata": {},
   "outputs": [
    {
     "data": {
      "text/html": [
       "<div>\n",
       "<style>\n",
       "    .dataframe thead tr:only-child th {\n",
       "        text-align: right;\n",
       "    }\n",
       "\n",
       "    .dataframe thead th {\n",
       "        text-align: left;\n",
       "    }\n",
       "\n",
       "    .dataframe tbody tr th {\n",
       "        vertical-align: top;\n",
       "    }\n",
       "</style>\n",
       "<table border=\"1\" class=\"dataframe\">\n",
       "  <thead>\n",
       "    <tr style=\"text-align: right;\">\n",
       "      <th></th>\n",
       "      <th>iyear</th>\n",
       "      <th>imonth</th>\n",
       "      <th>iday</th>\n",
       "      <th>country_txt</th>\n",
       "      <th>region_txt</th>\n",
       "      <th>city</th>\n",
       "      <th>latitude</th>\n",
       "      <th>longitude</th>\n",
       "    </tr>\n",
       "  </thead>\n",
       "  <tbody>\n",
       "    <tr>\n",
       "      <th>62100</th>\n",
       "      <td>2016</td>\n",
       "      <td>1</td>\n",
       "      <td>1</td>\n",
       "      <td>Iraq</td>\n",
       "      <td>Middle East &amp; North Africa</td>\n",
       "      <td>Baghdad</td>\n",
       "      <td>33.325091</td>\n",
       "      <td>44.422353</td>\n",
       "    </tr>\n",
       "    <tr>\n",
       "      <th>62101</th>\n",
       "      <td>2016</td>\n",
       "      <td>1</td>\n",
       "      <td>1</td>\n",
       "      <td>Iraq</td>\n",
       "      <td>Middle East &amp; North Africa</td>\n",
       "      <td>Baghdad</td>\n",
       "      <td>33.389934</td>\n",
       "      <td>44.460652</td>\n",
       "    </tr>\n",
       "    <tr>\n",
       "      <th>62102</th>\n",
       "      <td>2016</td>\n",
       "      <td>1</td>\n",
       "      <td>1</td>\n",
       "      <td>Iraq</td>\n",
       "      <td>Middle East &amp; North Africa</td>\n",
       "      <td>Baghdad</td>\n",
       "      <td>33.223512</td>\n",
       "      <td>44.434701</td>\n",
       "    </tr>\n",
       "    <tr>\n",
       "      <th>62103</th>\n",
       "      <td>2016</td>\n",
       "      <td>1</td>\n",
       "      <td>1</td>\n",
       "      <td>India</td>\n",
       "      <td>South Asia</td>\n",
       "      <td>Pathankot</td>\n",
       "      <td>32.268717</td>\n",
       "      <td>75.655513</td>\n",
       "    </tr>\n",
       "    <tr>\n",
       "      <th>62104</th>\n",
       "      <td>2016</td>\n",
       "      <td>1</td>\n",
       "      <td>1</td>\n",
       "      <td>India</td>\n",
       "      <td>South Asia</td>\n",
       "      <td>Kathlore</td>\n",
       "      <td>32.244186</td>\n",
       "      <td>75.434659</td>\n",
       "    </tr>\n",
       "  </tbody>\n",
       "</table>\n",
       "</div>"
      ],
      "text/plain": [
       "       iyear  imonth  iday country_txt                  region_txt       city  \\\n",
       "62100   2016       1     1        Iraq  Middle East & North Africa    Baghdad   \n",
       "62101   2016       1     1        Iraq  Middle East & North Africa    Baghdad   \n",
       "62102   2016       1     1        Iraq  Middle East & North Africa    Baghdad   \n",
       "62103   2016       1     1       India                  South Asia  Pathankot   \n",
       "62104   2016       1     1       India                  South Asia   Kathlore   \n",
       "\n",
       "        latitude  longitude  \n",
       "62100  33.325091  44.422353  \n",
       "62101  33.389934  44.460652  \n",
       "62102  33.223512  44.434701  \n",
       "62103  32.268717  75.655513  \n",
       "62104  32.244186  75.434659  "
      ]
     },
     "execution_count": 3,
     "metadata": {},
     "output_type": "execute_result"
    }
   ],
   "source": [
    "df_2016 = gtd[gtd['iyear']==2016]\n",
    "df_2016.head()"
   ]
  },
  {
   "cell_type": "code",
   "execution_count": 4,
   "metadata": {},
   "outputs": [
    {
     "data": {
      "text/html": [
       "<div>\n",
       "<style>\n",
       "    .dataframe thead tr:only-child th {\n",
       "        text-align: right;\n",
       "    }\n",
       "\n",
       "    .dataframe thead th {\n",
       "        text-align: left;\n",
       "    }\n",
       "\n",
       "    .dataframe tbody tr th {\n",
       "        vertical-align: top;\n",
       "    }\n",
       "</style>\n",
       "<table border=\"1\" class=\"dataframe\">\n",
       "  <thead>\n",
       "    <tr style=\"text-align: right;\">\n",
       "      <th></th>\n",
       "      <th>iyear</th>\n",
       "      <th>imonth</th>\n",
       "      <th>iday</th>\n",
       "      <th>country_txt</th>\n",
       "      <th>region_txt</th>\n",
       "      <th>city</th>\n",
       "      <th>latitude</th>\n",
       "      <th>longitude</th>\n",
       "    </tr>\n",
       "  </thead>\n",
       "  <tbody>\n",
       "    <tr>\n",
       "      <th>46209</th>\n",
       "      <td>2015</td>\n",
       "      <td>1</td>\n",
       "      <td>3</td>\n",
       "      <td>Iraq</td>\n",
       "      <td>Middle East &amp; North Africa</td>\n",
       "      <td>Baghdad</td>\n",
       "      <td>33.349705</td>\n",
       "      <td>44.514869</td>\n",
       "    </tr>\n",
       "    <tr>\n",
       "      <th>46897</th>\n",
       "      <td>2015</td>\n",
       "      <td>1</td>\n",
       "      <td>1</td>\n",
       "      <td>Bosnia-Herzegovina</td>\n",
       "      <td>Eastern Europe</td>\n",
       "      <td>Trnovi</td>\n",
       "      <td>45.183961</td>\n",
       "      <td>15.828342</td>\n",
       "    </tr>\n",
       "    <tr>\n",
       "      <th>47249</th>\n",
       "      <td>2015</td>\n",
       "      <td>1</td>\n",
       "      <td>1</td>\n",
       "      <td>Iraq</td>\n",
       "      <td>Middle East &amp; North Africa</td>\n",
       "      <td>Baghdad</td>\n",
       "      <td>33.341992</td>\n",
       "      <td>44.276368</td>\n",
       "    </tr>\n",
       "    <tr>\n",
       "      <th>47250</th>\n",
       "      <td>2015</td>\n",
       "      <td>1</td>\n",
       "      <td>1</td>\n",
       "      <td>Sweden</td>\n",
       "      <td>Western Europe</td>\n",
       "      <td>Uppsala</td>\n",
       "      <td>59.857979</td>\n",
       "      <td>17.639822</td>\n",
       "    </tr>\n",
       "    <tr>\n",
       "      <th>47251</th>\n",
       "      <td>2015</td>\n",
       "      <td>1</td>\n",
       "      <td>1</td>\n",
       "      <td>Libya</td>\n",
       "      <td>Middle East &amp; North Africa</td>\n",
       "      <td>Benghazi</td>\n",
       "      <td>32.116136</td>\n",
       "      <td>20.066488</td>\n",
       "    </tr>\n",
       "  </tbody>\n",
       "</table>\n",
       "</div>"
      ],
      "text/plain": [
       "       iyear  imonth  iday         country_txt                  region_txt  \\\n",
       "46209   2015       1     3                Iraq  Middle East & North Africa   \n",
       "46897   2015       1     1  Bosnia-Herzegovina              Eastern Europe   \n",
       "47249   2015       1     1                Iraq  Middle East & North Africa   \n",
       "47250   2015       1     1              Sweden              Western Europe   \n",
       "47251   2015       1     1               Libya  Middle East & North Africa   \n",
       "\n",
       "           city   latitude  longitude  \n",
       "46209   Baghdad  33.349705  44.514869  \n",
       "46897    Trnovi  45.183961  15.828342  \n",
       "47249   Baghdad  33.341992  44.276368  \n",
       "47250   Uppsala  59.857979  17.639822  \n",
       "47251  Benghazi  32.116136  20.066488  "
      ]
     },
     "execution_count": 4,
     "metadata": {},
     "output_type": "execute_result"
    }
   ],
   "source": [
    "df_2015 = gtd[gtd['iyear']==2015]\n",
    "df_2015.head()"
   ]
  },
  {
   "cell_type": "code",
   "execution_count": 5,
   "metadata": {},
   "outputs": [
    {
     "data": {
      "text/html": [
       "<div>\n",
       "<style>\n",
       "    .dataframe thead tr:only-child th {\n",
       "        text-align: right;\n",
       "    }\n",
       "\n",
       "    .dataframe thead th {\n",
       "        text-align: left;\n",
       "    }\n",
       "\n",
       "    .dataframe tbody tr th {\n",
       "        vertical-align: top;\n",
       "    }\n",
       "</style>\n",
       "<table border=\"1\" class=\"dataframe\">\n",
       "  <thead>\n",
       "    <tr style=\"text-align: right;\">\n",
       "      <th></th>\n",
       "      <th>iyear</th>\n",
       "      <th>imonth</th>\n",
       "      <th>iday</th>\n",
       "      <th>country_txt</th>\n",
       "      <th>region_txt</th>\n",
       "      <th>city</th>\n",
       "      <th>latitude</th>\n",
       "      <th>longitude</th>\n",
       "    </tr>\n",
       "  </thead>\n",
       "  <tbody>\n",
       "    <tr>\n",
       "      <th>30389</th>\n",
       "      <td>2014</td>\n",
       "      <td>1</td>\n",
       "      <td>1</td>\n",
       "      <td>Colombia</td>\n",
       "      <td>South America</td>\n",
       "      <td>Convencion</td>\n",
       "      <td>8.868790</td>\n",
       "      <td>-73.194094</td>\n",
       "    </tr>\n",
       "    <tr>\n",
       "      <th>30390</th>\n",
       "      <td>2014</td>\n",
       "      <td>1</td>\n",
       "      <td>1</td>\n",
       "      <td>Somalia</td>\n",
       "      <td>Sub-Saharan Africa</td>\n",
       "      <td>Mogadishu</td>\n",
       "      <td>2.038353</td>\n",
       "      <td>45.342073</td>\n",
       "    </tr>\n",
       "    <tr>\n",
       "      <th>30391</th>\n",
       "      <td>2014</td>\n",
       "      <td>1</td>\n",
       "      <td>1</td>\n",
       "      <td>Pakistan</td>\n",
       "      <td>South Asia</td>\n",
       "      <td>Quetta</td>\n",
       "      <td>30.191332</td>\n",
       "      <td>67.003051</td>\n",
       "    </tr>\n",
       "    <tr>\n",
       "      <th>30392</th>\n",
       "      <td>2014</td>\n",
       "      <td>1</td>\n",
       "      <td>1</td>\n",
       "      <td>Pakistan</td>\n",
       "      <td>South Asia</td>\n",
       "      <td>Dera Bugti</td>\n",
       "      <td>29.033333</td>\n",
       "      <td>69.150000</td>\n",
       "    </tr>\n",
       "    <tr>\n",
       "      <th>30393</th>\n",
       "      <td>2014</td>\n",
       "      <td>1</td>\n",
       "      <td>1</td>\n",
       "      <td>Somalia</td>\n",
       "      <td>Sub-Saharan Africa</td>\n",
       "      <td>Buale</td>\n",
       "      <td>1.097128</td>\n",
       "      <td>42.598368</td>\n",
       "    </tr>\n",
       "  </tbody>\n",
       "</table>\n",
       "</div>"
      ],
      "text/plain": [
       "       iyear  imonth  iday country_txt          region_txt        city  \\\n",
       "30389   2014       1     1    Colombia       South America  Convencion   \n",
       "30390   2014       1     1     Somalia  Sub-Saharan Africa   Mogadishu   \n",
       "30391   2014       1     1    Pakistan          South Asia      Quetta   \n",
       "30392   2014       1     1    Pakistan          South Asia  Dera Bugti   \n",
       "30393   2014       1     1     Somalia  Sub-Saharan Africa       Buale   \n",
       "\n",
       "        latitude  longitude  \n",
       "30389   8.868790 -73.194094  \n",
       "30390   2.038353  45.342073  \n",
       "30391  30.191332  67.003051  \n",
       "30392  29.033333  69.150000  \n",
       "30393   1.097128  42.598368  "
      ]
     },
     "execution_count": 5,
     "metadata": {},
     "output_type": "execute_result"
    }
   ],
   "source": [
    "df_2014 = gtd[gtd['iyear']==2014]\n",
    "df_2014.head()"
   ]
  },
  {
   "cell_type": "code",
   "execution_count": 6,
   "metadata": {
    "collapsed": true
   },
   "outputs": [],
   "source": [
    "lat_2016 = df_2016['latitude']\n",
    "lon_2016 = df_2016['longitude']"
   ]
  },
  {
   "cell_type": "code",
   "execution_count": 7,
   "metadata": {
    "collapsed": true
   },
   "outputs": [],
   "source": [
    "lat_2015 = df_2015['latitude']\n",
    "lon_2015 = df_2015['longitude']"
   ]
  },
  {
   "cell_type": "code",
   "execution_count": 8,
   "metadata": {
    "collapsed": true
   },
   "outputs": [],
   "source": [
    "lat_2014 = df_2014['latitude']\n",
    "lon_2014 = df_2014['longitude']"
   ]
  },
  {
   "cell_type": "code",
   "execution_count": 9,
   "metadata": {
    "collapsed": true
   },
   "outputs": [],
   "source": [
    "plotly.tools.set_credentials_file(username='Asutosh989', api_key='bdqfWrjiSHQF7t1M8euj')"
   ]
  },
  {
   "cell_type": "code",
   "execution_count": 10,
   "metadata": {
    "collapsed": true
   },
   "outputs": [],
   "source": [
    "country = df_2016['country_txt']\n",
    "city = df_2016['city']"
   ]
  },
  {
   "cell_type": "code",
   "execution_count": 11,
   "metadata": {},
   "outputs": [],
   "source": [
    "lat_l=list(lat_2016)\n",
    "lon_l=list(lon_2016)\n",
    "coord = []\n",
    "for i in range(len(lat_l)):\n",
    "    coord.append([lat_l[i],lon_l[i]])"
   ]
  },
  {
   "cell_type": "code",
   "execution_count": 12,
   "metadata": {},
   "outputs": [],
   "source": [
    "from math import radians, cos, sin, asin, sqrt\n",
    "def haversine(a,b):\n",
    "    # convert decimal degrees to radians \n",
    "    km_l = []\n",
    "    for i in range(len(b)):\n",
    "        lat1,lon1,lat2,lon2 = a[0],a[1],b[i][0],b[i][1]\n",
    "        lon1, lat1, lon2, lat2 = map(radians, [lon1, lat1, lon2, lat2])\n",
    "        dlon = lon2 - lon1 \n",
    "        dlat = lat2 - lat1 \n",
    "        x = sin(dlat/2)**2 + cos(lat1) * cos(lat2) * sin(dlon/2)**2\n",
    "        c = 2 * asin(sqrt(x)) \n",
    "        km = 6367 * c\n",
    "        km_l.append(\"{0:.2f}\".format(km))\n",
    "    km_l.sort()\n",
    "    return km_l"
   ]
  },
  {
   "cell_type": "code",
   "execution_count": 13,
   "metadata": {},
   "outputs": [
    {
     "name": "stdout",
     "output_type": "stream",
     "text": [
      "[18.564, 89.5]\n"
     ]
    }
   ],
   "source": [
    "a = [18.564,89.5]\n",
    "print(a)"
   ]
  },
  {
   "cell_type": "code",
   "execution_count": 14,
   "metadata": {},
   "outputs": [
    {
     "name": "stdout",
     "output_type": "stream",
     "text": [
      "YOU ARE IN A DANGER AREA\n",
      "You are in Burundi country\n",
      "Your nearby danger city is Bujumbura\n"
     ]
    }
   ],
   "source": [
    "distance_actual = haversine(a,coord)\n",
    "\n",
    "for o in range(len(distance_actual)):\n",
    "    if (float(distance_actual[o])<500):\n",
    "        f=1\n",
    "        break\n",
    "    else:\n",
    "        f=0\n",
    "if f==1:\n",
    "    print(\"YOU ARE IN A DANGER AREA\")\n",
    "    print(\"You are in \"+str(country[o+62100])+\" country\")\n",
    "    print(\"Your nearby danger city is \"+str(city[o+62100]))\n",
    "else:\n",
    "    print(\"YOU ARE SAFE\")\n",
    "    print(country)"
   ]
  },
  {
   "cell_type": "code",
   "execution_count": 15,
   "metadata": {
    "collapsed": true
   },
   "outputs": [],
   "source": [
    "mapbox_access_token = 'pk.eyJ1IjoiemVjdHJvc2FuIiwiYSI6ImNqN2QzamM2bjA1cXIzM3BkeXhlbnpjaHMifQ.h94ete_va3GUTxMFqKnLdg'"
   ]
  },
  {
   "cell_type": "code",
   "execution_count": 32,
   "metadata": {},
   "outputs": [
    {
     "data": {
      "text/html": [
       "<iframe id=\"igraph\" scrolling=\"no\" style=\"border:none;\" seamless=\"seamless\" src=\"https://plot.ly/~Asutosh989/2.embed\" height=\"525px\" width=\"100%\"></iframe>"
      ],
      "text/plain": [
       "<plotly.tools.PlotlyDisplay object>"
      ]
     },
     "execution_count": 32,
     "metadata": {},
     "output_type": "execute_result"
    }
   ],
   "source": [
    "data = Data([\n",
    "    Scattermapbox(\n",
    "        lat=lat_2016,\n",
    "        lon=lon_2016,\n",
    "        mode='markers',\n",
    "        marker=Marker(\n",
    "            color='rgb(0, 0, 255)',\n",
    "            size=10\n",
    "        )\n",
    "        \n",
    "    ),Scattermapbox(\n",
    "        lat=lat_2015,\n",
    "        lon=lon_2015,\n",
    "        mode='markers',\n",
    "        marker=Marker(\n",
    "            color='rgb(0, 255, 0)',\n",
    "            size=10\n",
    "        )\n",
    "        \n",
    "#     ),Scattermapbox(\n",
    "#         lat=lat_2014,\n",
    "#         lon=lon_2014,\n",
    "#         mode='markers',\n",
    "#         marker=Marker(\n",
    "#             color='rgb(255,10, 0)',\n",
    "#             size=10\n",
    "#         )\n",
    "        \n",
    "#     ),\n",
    "        Scattermapbox(\n",
    "        lat=a[0],\n",
    "        lon=a[1],\n",
    "        mode='markers',\n",
    "        marker=Marker(\n",
    "            color='rgb(0, 0, 0)',\n",
    "            size=30\n",
    "        )\n",
    "        \n",
    "    )\n",
    "])\n",
    "\n",
    "layout = Layout(\n",
    "    autosize=True,\n",
    "    hovermode='closest',\n",
    "    mapbox=dict(\n",
    "        accesstoken=mapbox_access_token,\n",
    "        bearing=0,\n",
    "        center=dict(\n",
    "            lat=a[0],\n",
    "            lon=a[1]\n",
    "        ),\n",
    "        pitch=0,\n",
    "        zoom=5\n",
    "    ),\n",
    ")\n",
    "\n",
    "fig = dict(data=data, layout=layout)\n",
    "py.iplot(fig, filename='Terror Mapbox')"
   ]
  },
  {
   "cell_type": "code",
   "execution_count": null,
   "metadata": {
    "collapsed": true
   },
   "outputs": [],
   "source": []
  }
 ],
 "metadata": {
  "kernelspec": {
   "display_name": "Python 3",
   "language": "python",
   "name": "python3"
  },
  "language_info": {
   "codemirror_mode": {
    "name": "ipython",
    "version": 3
   },
   "file_extension": ".py",
   "mimetype": "text/x-python",
   "name": "python",
   "nbconvert_exporter": "python",
   "pygments_lexer": "ipython3",
   "version": "3.5.2"
  }
 },
 "nbformat": 4,
 "nbformat_minor": 2
}
